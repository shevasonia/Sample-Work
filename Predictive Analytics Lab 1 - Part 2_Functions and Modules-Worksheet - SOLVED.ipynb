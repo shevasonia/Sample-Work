{
 "cells": [
  {
   "cell_type": "markdown",
   "metadata": {},
   "source": [
    "# Functions and Modules"
   ]
  },
  {
   "cell_type": "markdown",
   "metadata": {
    "collapsed": true
   },
   "source": [
    "## Functions\n",
    "1. Block of organized, reusable code that is used to perform a single, related action \n",
    "2. Provide better modularity for your application and a high degree of code reusing \n",
    "3. Python gives you many built-in functions like print(), len() etc..\n",
    "4. It is also possible to define user-defined functions\n",
    "5. Global vs. local variables: Global variables are declared outside any function, and they can be accessed (used) on any function in the program. Local variables are declared inside a function, and can be used only inside that function"
   ]
  },
  {
   "cell_type": "markdown",
   "metadata": {},
   "source": [
    "\n",
    "<img src = \"funsyn.jpg\">\n"
   ]
  },
  {
   "cell_type": "markdown",
   "metadata": {},
   "source": [
    "*Write a small function that checks if the number entered by the user is 5*"
   ]
  },
  {
   "cell_type": "code",
   "execution_count": 2,
   "metadata": {},
   "outputs": [
    {
     "name": "stdout",
     "output_type": "stream",
     "text": [
      "number is 5\n"
     ]
    }
   ],
   "source": [
    "# FUNCTION DEFINITION\n",
    "def check_if_5(i):\n",
    "    \"\"\" Check if the number entered is 5\"\"\"\n",
    "    if i == 5:\n",
    "        return 1\n",
    "    else:\n",
    "        return 0\n",
    "\n",
    "#FUNCTION CALL\n",
    "ret_val = check_if_5(5)\n",
    "\n",
    "if ret_val == 1:\n",
    "    print(\"number is 5\")\n",
    "else:\n",
    "    print(\"not 5\")\n"
   ]
  },
  {
   "cell_type": "markdown",
   "metadata": {},
   "source": [
    "#### Local vs. global variable\n",
    "\n",
    "*Global variables* are declared outside any function, and they can be accessed (used) on any function in the program. *Local variables* are declared inside a function, and can be used only inside that function. "
   ]
  },
  {
   "cell_type": "code",
   "execution_count": 4,
   "metadata": {},
   "outputs": [
    {
     "name": "stdout",
     "output_type": "stream",
     "text": [
      "i + 5 =  15\n"
     ]
    }
   ],
   "source": [
    "#Excercise 1: Correct this code so that there is no error. The expected output is : 15\n",
    "\n",
    "def addfive(num):\n",
    "    \"\"\" This function adds 5 to a number given to it \"\"\"\n",
    "    l_num = num + 5\n",
    "    return l_num\n",
    "\n",
    "i = 10\n",
    "ret_num=addfive(i)\n",
    "print(\"i + 5 = \", ret_num)"
   ]
  },
  {
   "cell_type": "markdown",
   "metadata": {},
   "source": [
    "### Note on Functions vs. Methods\n",
    "\n",
    "- A function is a piece of code that can be applied to any data structure (object) given certain conditions. e.g. len() is a function that can work for many objects like integer, lists and strings.\n",
    "- A method is a piece of code that is applicable only a particular object e.g .lower() is a method that is applcable to string objects. "
   ]
  },
  {
   "cell_type": "code",
   "execution_count": 5,
   "metadata": {},
   "outputs": [
    {
     "name": "stdout",
     "output_type": "stream",
     "text": [
      "poonacha\n",
      "8\n"
     ]
    }
   ],
   "source": [
    "char_num = 'POONACHA'\n",
    "# example of method on string object\n",
    "l_case = char_num.lower()\n",
    "print(l_case)\n",
    "#example of function\n",
    "n_chars = len(char_num)\n",
    "print(n_chars)"
   ]
  },
  {
   "cell_type": "markdown",
   "metadata": {},
   "source": [
    "## Modules\n",
    "\n",
    "1. A set of related functions can be grouped together as module\n",
    "2. A module is nothing but a python file\n",
    "3. The open source community continuosly builds modules and makes it available for us\n",
    "4. To access these modules we need to use the \"import command\"\n",
    "\n",
    "*Let us import a commonly used module and access one of its functions.*"
   ]
  },
  {
   "cell_type": "code",
   "execution_count": 6,
   "metadata": {},
   "outputs": [
    {
     "name": "stdout",
     "output_type": "stream",
     "text": [
      "A random number between 1 and 6 is:  3\n"
     ]
    }
   ],
   "source": [
    "import random\n",
    "print('A random number between 1 and 6 is: ',random.randint(1,6))"
   ]
  },
  {
   "cell_type": "markdown",
   "metadata": {},
   "source": [
    "It is also possible to import specific functions from within the module directly. When you do this make sure you have not used the same name for your function."
   ]
  },
  {
   "cell_type": "code",
   "execution_count": 7,
   "metadata": {},
   "outputs": [
    {
     "name": "stdout",
     "output_type": "stream",
     "text": [
      "A random number between 1 and 6 is:  3\n"
     ]
    }
   ],
   "source": [
    "from random import randint\n",
    "print('A random number between 1 and 6 is: ',randint(1,6))"
   ]
  },
  {
   "cell_type": "markdown",
   "metadata": {},
   "source": [
    "The zen of python"
   ]
  },
  {
   "cell_type": "code",
   "execution_count": 6,
   "metadata": {},
   "outputs": [
    {
     "name": "stdout",
     "output_type": "stream",
     "text": [
      "The Zen of Python, by Tim Peters\n",
      "\n",
      "Beautiful is better than ugly.\n",
      "Explicit is better than implicit.\n",
      "Simple is better than complex.\n",
      "Complex is better than complicated.\n",
      "Flat is better than nested.\n",
      "Sparse is better than dense.\n",
      "Readability counts.\n",
      "Special cases aren't special enough to break the rules.\n",
      "Although practicality beats purity.\n",
      "Errors should never pass silently.\n",
      "Unless explicitly silenced.\n",
      "In the face of ambiguity, refuse the temptation to guess.\n",
      "There should be one-- and preferably only one --obvious way to do it.\n",
      "Although that way may not be obvious at first unless you're Dutch.\n",
      "Now is better than never.\n",
      "Although never is often better than *right* now.\n",
      "If the implementation is hard to explain, it's a bad idea.\n",
      "If the implementation is easy to explain, it may be a good idea.\n",
      "Namespaces are one honking great idea -- let's do more of those!\n"
     ]
    }
   ],
   "source": [
    "import this"
   ]
  },
  {
   "cell_type": "markdown",
   "metadata": {},
   "source": [
    "## Excercise 2: Management talk\n",
    "In this exercise, you will create a random rhetoric generator. Create a function that when called, will randomly select one element each part to form a new sentence.\n",
    "\n",
    "Hint:\n",
    "1. You can use *random* module\n",
    "2. You can use *len()* function\n",
    "\n",
    "##### Part 1 of sentence:\n",
    "\"We will constantly strive\",\"We will continue\",\"We are dedicated\",\"We will help\", \"We are continually evolving\",\"We will steadfastly and unceasingly try\",\"We will progressively conceptualize\", \"We will uniquely orchestrate\",\n",
    "\"Our purpose and existence is\"\n",
    "\n",
    "##### Part 2 of sentence:\n",
    "\"to provide\",\"to helping enable\",\"to leverage\",\"to deliver\",\"to control\",\"to research\",\"to imbibe\",\"to unearth\",\"to capitalize\"\n",
    "\n",
    "##### Part 3 of sentence:\n",
    "\"flexible knowledge products\",\"worldwide ePortals\",\"digital database solutions\", \"data-driven business metrics\",\"scalable solutions\",\"virtual eSolutions\",\"short term solutions with long term vision\", \"world class frameworks\"\n",
    "\n",
    "##### Part 4 of sentence:\n",
    "\"for today's\",\"for tomorrow’s\",\"for increasing the market potential of\",\"for innovative\",\"for budding\"\n",
    "\n",
    "##### Part 5 of sentence:\n",
    "\"market-focused virtual eMonopolies.\",\"fortune 500 dot-com virtual corporations.\", \"market leaders.\",\"virtual businesses.\",\"Scandinavian information workers.\", \"new economy eCompanies.\", \"industry champions.\",\"business gurus\", \"secrets of the universe\"\n"
   ]
  },
  {
   "cell_type": "code",
   "execution_count": 28,
   "metadata": {},
   "outputs": [
    {
     "name": "stdout",
     "output_type": "stream",
     "text": [
      "We will progressively conceptualize to deliver scalable solutions for tomorrow’s market leaders.\n"
     ]
    }
   ],
   "source": [
    "# Enter code here\n",
    "import random\n",
    "\n",
    "def rgen():\n",
    "    \"Rhetoric generator\"\n",
    "    p1=[\"We will constantly strive\",\"We will continue\",\"We are dedicated\",\"We will help\", \"We are continually evolving\",\"We will steadfastly and unceasingly try\",\"We will progressively conceptualize\", \"We will uniquely orchestrate\", \"Our purpose and existence is\"]\n",
    "    p2=[\"to provide\",\"to helping enable\",\"to leverage\",\"to deliver\",\"to control\",\"to research\",\"to imbibe\",\"to unearth\",\"to capitalize\"]\n",
    "    p3=[\"flexible knowledge products\",\"worldwide ePortals\",\"digital database solutions\", \"data-driven business metrics\",\"scalable solutions\",\"virtual eSolutions\",\"short term solutions with long term vision\", \"world class frameworks\"]\n",
    "    p4=[\"for today's\",\"for tomorrow’s\",\"for increasing the market potential of\",\"for innovative\",\"for budding\"]\n",
    "    p5=[\"market-focused virtual eMonopolies.\",\"fortune 500 dot-com virtual corporations.\", \"market leaders.\",\"virtual businesses.\",\"Scandinavian information workers.\", \"new economy eCompanies.\", \"industry champions.\",\"business gurus\", \"secrets of the universe\"]\n",
    "    \n",
    "print(p1[random.randint(0,len(p1)-1)] ,p2[random.randint(0,len(p2)-1)] ,p3[random.randint(0,len(p3)-1)] ,p4[random.randint(0,len(p4)-1)] ,p5[random.randint(0,len(p5)-1)])\n"
   ]
  }
 ],
 "metadata": {
  "anaconda-cloud": {},
  "kernelspec": {
   "display_name": "Python 3 (ipykernel)",
   "language": "python",
   "name": "python3"
  },
  "language_info": {
   "codemirror_mode": {
    "name": "ipython",
    "version": 3
   },
   "file_extension": ".py",
   "mimetype": "text/x-python",
   "name": "python",
   "nbconvert_exporter": "python",
   "pygments_lexer": "ipython3",
   "version": "3.9.13"
  }
 },
 "nbformat": 4,
 "nbformat_minor": 1
}
