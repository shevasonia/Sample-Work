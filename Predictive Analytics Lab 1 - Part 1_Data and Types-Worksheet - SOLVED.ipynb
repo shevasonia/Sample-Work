{
 "cells": [
  {
   "cell_type": "markdown",
   "metadata": {},
   "source": [
    "#### Note: Changes in Python Version 3\n",
    "Unlike Codeacademy, Anaconda uses Python version 3.  There are a few syntax changes that we need to keep in mind when we shift from Codeacademy to Anaconda."
   ]
  },
  {
   "cell_type": "markdown",
   "metadata": {},
   "source": [
    " 1.\t**print**: Use of parentheses is mandatory in Anaconda. *Codacademy : print “Hello” -->\tAnaconda : print(“Hello”)*"
   ]
  },
  {
   "cell_type": "markdown",
   "metadata": {},
   "source": [
    " 2.\t**raw_input**: Just use input instead of raw_input. *Codacademy : raw_input(“Enter a sentence:”)     -->\tAnaconda : input(“Enter a sentence :”)*"
   ]
  },
  {
   "cell_type": "markdown",
   "metadata": {
    "colab_type": "text",
    "id": "YOCVlkTDtqZr"
   },
   "source": [
    "# Data Types and Structures"
   ]
  },
  {
   "cell_type": "markdown",
   "metadata": {
    "colab_type": "text",
    "id": "bhN5fgnltqZt"
   },
   "source": [
    "In this lesson we learn about the basic data types and data structures and play with them a little. Note that data types:\n",
    "\n",
    "1. Defines the format by which you input data to a program, modify it and output it in the consol\n",
    "2. Basic data types: integer, float, string and boolean \n",
    "3. Basic data structures: Lists, dictionaries, tuples etc\n",
    "\n",
    "Note: Do not use keywords like \"if\", \"return\",\"None\", \"class\" as variable names. These are reserved. https://realpython.com/lessons/reserved-keywords/\n",
    " "
   ]
  },
  {
   "cell_type": "markdown",
   "metadata": {
    "colab_type": "text",
    "id": "UJvZ5CPHtqZu"
   },
   "source": [
    "## Data Types\n",
    "*Let us create an integer and string variable and see its output.*"
   ]
  },
  {
   "cell_type": "code",
   "execution_count": 2,
   "metadata": {
    "colab": {},
    "colab_type": "code",
    "id": "1vccnIIKtqZv",
    "outputId": "0cc1a0ec-bb76-4b3c-8a12-8634aa56a324"
   },
   "outputs": [
    {
     "name": "stdout",
     "output_type": "stream",
     "text": [
      "This is an integer:  99\n"
     ]
    }
   ],
   "source": [
    "integer = 99\n",
    "\n",
    "print('This is an integer: ',integer )"
   ]
  },
  {
   "cell_type": "code",
   "execution_count": 9,
   "metadata": {},
   "outputs": [
    {
     "name": "stdout",
     "output_type": "stream",
     "text": [
      "this is a string  poo\n"
     ]
    }
   ],
   "source": [
    "# Excercise 1a: intialize any string and print it \n",
    "string = 'poo'\n",
    "\n",
    "print('this is a string ',string )"
   ]
  },
  {
   "cell_type": "code",
   "execution_count": 23,
   "metadata": {},
   "outputs": [
    {
     "name": "stdout",
     "output_type": "stream",
     "text": [
      "this is a test:  poo\n"
     ]
    }
   ],
   "source": [
    "# Excercise 1b: Write the first error code. Intialize a variable with a restricted variable name.\n",
    "class_ = 'poo'\n",
    "print('this is a test: ',class_)\n",
    "\n",
    "\n",
    "# class = 'poo'\n",
    "# if = 'poo'\n",
    "# return = 'poo'\n",
    "# None= 'poo'\n",
    "# -> these commands results in invalid syntax because those variable names are reserved and therefore can not be used as a varibale name"
   ]
  },
  {
   "cell_type": "markdown",
   "metadata": {
    "colab_type": "text",
    "id": "Dz6JYxBEtqaB"
   },
   "source": [
    "### Some Simple Data Operations \n",
    "\n",
    "Most integer/floating point operators that you use in stata or other languages work in python as well - eg (+,-,*,/).\n",
    "\n",
    "*Let us write a code to find the quotient and reminder of a number given a divisor. The operator '//' can be used to find the quotient and '%' can be used to find the reminder.*** can be used for exponential"
   ]
  },
  {
   "cell_type": "code",
   "execution_count": 24,
   "metadata": {
    "colab": {},
    "colab_type": "code",
    "id": "YDcS-IHVtqaC",
    "outputId": "a336a376-f072-4f1e-da91-c54a95caa43d"
   },
   "outputs": [
    {
     "name": "stdout",
     "output_type": "stream",
     "text": [
      "reminder =  9 quotient =  19\n",
      "Number greater than a googol :  10000000000000000000000000000000000000000000000000000000000000000000000000000000000000000000000000001\n"
     ]
    }
   ],
   "source": [
    "number = 199\n",
    "divisor = 10\n",
    "rem = 199 % 10\n",
    "quotient = 199 // 10\n",
    "print('reminder = ', rem,'quotient = ', quotient)\n",
    "\n",
    "googol = 10**100\n",
    "print(\"Number greater than a googol : \",googol+1)"
   ]
  },
  {
   "cell_type": "code",
   "execution_count": 25,
   "metadata": {},
   "outputs": [
    {
     "name": "stdout",
     "output_type": "stream",
     "text": [
      "pi  3.142857142857143\n"
     ]
    }
   ],
   "source": [
    "# Excercise 2a: Print the value of pi\n",
    "print(\"pi \", 22/7)\n"
   ]
  },
  {
   "cell_type": "code",
   "execution_count": 26,
   "metadata": {},
   "outputs": [
    {
     "ename": "ZeroDivisionError",
     "evalue": "division by zero",
     "output_type": "error",
     "traceback": [
      "\u001b[0;31m---------------------------------------------------------------------------\u001b[0m",
      "\u001b[0;31mZeroDivisionError\u001b[0m                         Traceback (most recent call last)",
      "\u001b[0;32m/var/folders/n6/9xn1m47d4j14dpz1gtcsx0wh0000gn/T/ipykernel_913/4053772003.py\u001b[0m in \u001b[0;36m<module>\u001b[0;34m\u001b[0m\n\u001b[1;32m      1\u001b[0m \u001b[0;31m# Excercise 2b: See what happens when you try to devide by zero\u001b[0m\u001b[0;34m\u001b[0m\u001b[0;34m\u001b[0m\u001b[0m\n\u001b[0;32m----> 2\u001b[0;31m \u001b[0mprint\u001b[0m\u001b[0;34m(\u001b[0m\u001b[0;34m\"pi \"\u001b[0m\u001b[0;34m,\u001b[0m \u001b[0;36m22\u001b[0m\u001b[0;34m/\u001b[0m\u001b[0;36m0\u001b[0m\u001b[0;34m)\u001b[0m\u001b[0;34m\u001b[0m\u001b[0;34m\u001b[0m\u001b[0m\n\u001b[0m\u001b[1;32m      3\u001b[0m \u001b[0;34m\u001b[0m\u001b[0m\n",
      "\u001b[0;31mZeroDivisionError\u001b[0m: division by zero"
     ]
    }
   ],
   "source": [
    "# Excercise 2b: See what happens when you try to devide by zero\n",
    "print(\"pi \", 22/0)\n",
    "\n"
   ]
  },
  {
   "cell_type": "markdown",
   "metadata": {
    "colab_type": "text",
    "id": "sevq3rNNtqZ1"
   },
   "source": [
    "## Data Structures\n",
    "Data structures combine the basic datatypes (integer, float, string, boolean) to create more complex types. There are several types of data structures but the most commonly used ones are \"lists\" and \"dictionaries\"\n",
    "\n",
    "### Lists\n",
    "We start with a list. A list is a sequence of integer / character data types.\n",
    "Let us now create two list's one with only integer data \"i_list\" and the other with only character data \"c_list\". "
   ]
  },
  {
   "cell_type": "code",
   "execution_count": 27,
   "metadata": {
    "colab": {},
    "colab_type": "code",
    "id": "t-8JCOritqZ1",
    "outputId": "9bdca510-b9d3-45e6-9d71-8493c2429e50"
   },
   "outputs": [
    {
     "name": "stdout",
     "output_type": "stream",
     "text": [
      "This is a char list:  ['day', 'month', 'year']\n"
     ]
    }
   ],
   "source": [
    "c_list = ['day','month','year']\n",
    "\n",
    "print('This is a char list: ',c_list )"
   ]
  },
  {
   "cell_type": "markdown",
   "metadata": {
    "colab_type": "text",
    "id": "qnPkgkzctqZ5"
   },
   "source": [
    "The elements in the lists are numbered upwards from 0. Hence, we can access each element in the list using its index number. The following code prints the first element of c_list."
   ]
  },
  {
   "cell_type": "code",
   "execution_count": 28,
   "metadata": {
    "colab": {},
    "colab_type": "code",
    "id": "10EZc8KPtqZ6",
    "outputId": "9743e6ca-e857-428c-a2c8-c83166e41c88"
   },
   "outputs": [
    {
     "name": "stdout",
     "output_type": "stream",
     "text": [
      "The first element is:  day\n"
     ]
    }
   ],
   "source": [
    "print('The first element is: ', c_list[0])"
   ]
  },
  {
   "cell_type": "code",
   "execution_count": 31,
   "metadata": {},
   "outputs": [
    {
     "name": "stdout",
     "output_type": "stream",
     "text": [
      "This is an integer list:  [1, 2, 3, 4]\n",
      "The last element is:  4\n",
      "The last element is:  4\n"
     ]
    }
   ],
   "source": [
    "# Excercise 3a: Replicate the previous code using an integer list. I.e. create\n",
    "# an integer list, print the full integer list and print the last element of \n",
    "# the integer list. \n",
    "\n",
    "i_list = [1,2,3,4]\n",
    "\n",
    "print('This is an integer list: ',i_list )\n",
    "print('The last element is: ',i_list[3])\n",
    "print('The last element is: ',i_list[len(i_list)-1])\n"
   ]
  },
  {
   "cell_type": "code",
   "execution_count": 35,
   "metadata": {},
   "outputs": [
    {
     "name": "stdout",
     "output_type": "stream",
     "text": [
      "this is a char & integer list:  [1, 'day', 2, 'month', 3]\n",
      "test  3\n"
     ]
    }
   ],
   "source": [
    "# Excercise 3b: Create a list with both integer and string elements.\n",
    "# Since the list has both integers and strings, does the list maintain \n",
    "# the integers as integer types or convert the integers to string ?\n",
    "\n",
    "ci_list = [1,\"day\",2,\"month\",3]\n",
    "print('this is a char & integer list: ',ci_list)\n",
    "print('test ',ci_list[0]+ci_list[2])\n",
    "\n",
    "## they remains the same\n"
   ]
  },
  {
   "cell_type": "markdown",
   "metadata": {
    "colab_type": "text",
    "id": "KUh0UKU8tqaT"
   },
   "source": [
    "#### List Operations\n",
    "Lists are mutable i.e. we can append, insert and delete elements from the list. \n",
    "\n",
    "some common list methods - \n",
    "1. appending elements to a list :  append(*data to be entered*), \n",
    "2. insert element to a list : insert(*index*, *data*),\n",
    "3. delete an element from a list: del(*index*)"
   ]
  },
  {
   "cell_type": "code",
   "execution_count": 36,
   "metadata": {
    "colab": {},
    "colab_type": "code",
    "id": "Sk62ZRPAtqaU",
    "outputId": "ab58b6df-16eb-4426-ca09-fb86dec6536d"
   },
   "outputs": [
    {
     "name": "stdout",
     "output_type": "stream",
     "text": [
      "4\n",
      "[1, 2, 3, 4, 5]\n",
      "[1, 1.5, 2, 3, 4, 5]\n",
      "[1, 2, 3, 4, 5]\n",
      "[3, 4, 5]\n",
      "[]\n"
     ]
    }
   ],
   "source": [
    "i_list = [1,2,3,4]\n",
    "\n",
    "#find the number of elements of a list\n",
    "print(len(i_list))\n",
    "#*len is abbrev. of length\n",
    "\n",
    "# Append the number 5 at the end\n",
    "i_list.append(5)\n",
    "print(i_list)\n",
    "\n",
    "# Insert the 1.5 between 1 and 2\n",
    "i_list.insert(1,1.5)\n",
    "print(i_list)\n",
    "\n",
    "#delete the number 1.5\n",
    "del i_list[1]\n",
    "print(i_list)\n",
    "\n",
    "#delete the number between position 0 and 2\n",
    "del i_list[0:2]\n",
    "print(i_list)\n",
    "\n",
    "#delete the entire list\n",
    "del i_list[:]\n",
    "print(i_list)\n",
    "\n"
   ]
  },
  {
   "cell_type": "code",
   "execution_count": 40,
   "metadata": {},
   "outputs": [
    {
     "name": "stdout",
     "output_type": "stream",
     "text": [
      "7\n",
      "['a', 'b', 'd', 'poo', 'e', 'f', 'g', 'h']\n",
      "['a', 'b', 'c', 'd', 'poo', 'e', 'f', 'g', 'h']\n",
      "['a', 'b', 'c', 'd', 'e', 'f', 'g', 'h']\n",
      "['d', 'e', 'f', 'g', 'h']\n",
      "[]\n"
     ]
    }
   ],
   "source": [
    "# Excercise 4: Replicate the previous code using an charater list. \n",
    "\n",
    "c_list = ['a','b','d','poo','e','f','g']\n",
    "\n",
    "#find the number of elements of a list\n",
    "print(len(c_list))\n",
    "\n",
    "\n",
    "# Append the 'h' at the end\n",
    "c_list.append('h')\n",
    "print(c_list)\n",
    "\n",
    "# Insert the 'c' between 'b' and 'd'\n",
    "c_list.insert(2, 'c')\n",
    "print(c_list)\n",
    "\n",
    "\n",
    "#delete the string 'poo' from the list\n",
    "del c_list[4]\n",
    "print(c_list)\n",
    "\n",
    "\n",
    "#delete the first three characters  i.e 'a', 'b', 'c'\n",
    "del c_list[0:3]\n",
    "print(c_list)\n",
    "\n",
    "\n",
    "\n",
    "#delete the entire list\n",
    "del c_list[:]\n",
    "print(c_list)\n",
    "\n",
    "\n"
   ]
  },
  {
   "cell_type": "markdown",
   "metadata": {
    "colab_type": "text",
    "id": "NOTn1slXtqaH"
   },
   "source": [
    "### String\n",
    "Strings are used to input and read sentences and words. There are several operations that can be done on a string. \n",
    "1. Concatinating - We can use either \"+\" operator combine two strings. Join() can be used to combine a list of strings into a single string."
   ]
  },
  {
   "cell_type": "code",
   "execution_count": 41,
   "metadata": {
    "colab": {},
    "colab_type": "code",
    "id": "9d6BE2cDtqaH",
    "outputId": "33e4883f-d823-4293-eb2c-b2f847657cce"
   },
   "outputs": [
    {
     "name": "stdout",
     "output_type": "stream",
     "text": [
      "poonacha medappa\n",
      "poo\n"
     ]
    }
   ],
   "source": [
    "string = 'poonacha'\n",
    "string = string + ' medappa' \n",
    "print(string)\n",
    "print(string[0:3])"
   ]
  },
  {
   "cell_type": "markdown",
   "metadata": {
    "colab_type": "text",
    "id": "YRNOVwXatqaL"
   },
   "source": [
    "1. split('*seperator*') - We can use the split() command to split a string into a list of smaller strings depending on a specified seperator \n",
    "2. Conversely, join('*seperator*') can be used to combine a list of strings into a single string using the seperator\n",
    "3. If no seperator is specified, it assumes the seperator is a space or a tab\n",
    "4. The input('*input message*') function is used to enter data from the consol\n",
    "\n",
    "*Let us write a code to enter a sentence and split it into a list of words.* "
   ]
  },
  {
   "cell_type": "code",
   "execution_count": 42,
   "metadata": {
    "colab": {},
    "colab_type": "code",
    "id": "OZyGSvGDtqaM",
    "outputId": "c106031f-6100-4cac-ff39-3bd9a0abdbac"
   },
   "outputs": [
    {
     "name": "stdout",
     "output_type": "stream",
     "text": [
      "Enter the sentence to be split: My name is Sheva\n",
      "['My', 'name', 'is', 'Sheva']\n",
      "My\n"
     ]
    }
   ],
   "source": [
    "s_input = input('Enter the sentence to be split: ')\n",
    "words = s_input.split(' ')\n",
    "print(words)\n",
    "print(words[0])"
   ]
  },
  {
   "cell_type": "code",
   "execution_count": 44,
   "metadata": {},
   "outputs": [
    {
     "name": "stdout",
     "output_type": "stream",
     "text": [
      "Enter date in dd/mm/yyyy format28/10/2001\n",
      "['28', '10', '2001']\n",
      "Day:  28 Month:  10 Year:  2001\n"
     ]
    }
   ],
   "source": [
    "# Excercise 5: Write a small code to enter a date in \"dd/mm/yyyy\" format. \n",
    "# Use the split() command to split the entered date into day, month and year. \n",
    "# Hint. you need to specify the seperater as '/' : .split('/')\n",
    "\n",
    "s_input = input('Enter date in dd/mm/yyyy format')\n",
    "words = s_input.split('/')\n",
    "print(words)\n",
    "print('Day: ',words[0], 'Month: ',words[1],'Year: ', words[2])"
   ]
  },
  {
   "cell_type": "markdown",
   "metadata": {
    "colab_type": "text",
    "id": "q-d2G3m0tqZ9"
   },
   "source": [
    "### Dictionaries\n",
    "A dictionary is similar to a list but rather than an index which represents each element, the dictionary uses a unique user defined key. The following code creates a dictionary by the name \"dict_date\" with three elements representing the current day, month and year."
   ]
  },
  {
   "cell_type": "code",
   "execution_count": 14,
   "metadata": {
    "colab": {},
    "colab_type": "code",
    "id": "ZVTufy_3tqZ-",
    "outputId": "25e5ab2a-9f0b-45fd-ab27-2ce7de0ce861",
    "scrolled": true
   },
   "outputs": [
    {
     "name": "stdout",
     "output_type": "stream",
     "text": [
      "This is a dictionary:  {'day': 14, 'month': 3, 'year': 2018}\n",
      "Today in dictionary is: day -  14  month -  3  year -  2018\n"
     ]
    }
   ],
   "source": [
    "dict_date = {'day' : 14 , 'month' : 3, 'year' : 2018} \n",
    "print('This is a dictionary: ',dict_date)\n",
    "print('Today in dictionary is: day - ',dict_date['day'],' month - ',\n",
    "      dict_date['month'],' year - ', dict_date['year'] )"
   ]
  },
  {
   "cell_type": "code",
   "execution_count": 49,
   "metadata": {
    "colab": {},
    "colab_type": "code",
    "id": "On-RkoSttqaQ",
    "outputId": "23b8cbf7-2e02-47a5-d5f6-7ee686bd2bff"
   },
   "outputs": [
    {
     "name": "stdout",
     "output_type": "stream",
     "text": [
      "This is a dictionary:  {'name': 'Sheva', 'university': 'TiU', 'program': 'Economics'}\n",
      "My name is:  Sheva I study at:  TiU In the program:  Economics\n"
     ]
    }
   ],
   "source": [
    "# Excercise 6: Create a dictionary that has the following information:\n",
    "# name\n",
    "# university\n",
    "# program\n",
    "# Print the information as My name is: <name>. I study at : <uni>. In the program : <prog>\n",
    "dict_personal = {'name':'Sheva', 'university':'TiU','program':'Economics'}\n",
    "print('This is a dictionary: ',dict_personal)\n",
    "print('My name is: ',dict_personal['name'], 'I study at: ',dict_personal['university'],'In the program: ',dict_personal['program'])\n",
    "\n"
   ]
  },
  {
   "cell_type": "markdown",
   "metadata": {},
   "source": [
    "### Mutable vs. Immutable\n",
    "An immutable object (unchangeable object) is an object whose state cannot be modified after it is created. This is in contrast to a mutable object (changeable object), which can be modified after it is created. Strings and other concrete objects are typically expressed as immutable objects while lists are mutable."
   ]
  },
  {
   "cell_type": "code",
   "execution_count": 50,
   "metadata": {},
   "outputs": [
    {
     "name": "stdout",
     "output_type": "stream",
     "text": [
      "poonacha\n",
      "poo\n",
      "['poo', 'nacha']\n",
      "['poo', 'nacha']\n"
     ]
    }
   ],
   "source": [
    "#Immutable object example - string\n",
    "a = \"poo\"\n",
    "b = a\n",
    "a = a+\"nacha\"\n",
    "\n",
    "print(a)\n",
    "print(b)\n",
    "\n",
    "#Mutable object example - list\n",
    "a = [\"poo\"]\n",
    "b = a\n",
    "a.append('nacha')\n",
    "\n",
    "print(a)\n",
    "print(b) \n",
    "\n",
    "# note the difference between string 'b' and list 'b'. "
   ]
  },
  {
   "cell_type": "code",
   "execution_count": null,
   "metadata": {},
   "outputs": [],
   "source": [
    "# Excercise 7 : When would you use immutable objects vs. mutable objects ? \n",
    "## "
   ]
  }
 ],
 "metadata": {
  "colab": {
   "name": "Lesson 1 - Data and Types.ipynb",
   "provenance": [],
   "version": "0.3.2"
  },
  "kernelspec": {
   "display_name": "Python 3 (ipykernel)",
   "language": "python",
   "name": "python3"
  },
  "language_info": {
   "codemirror_mode": {
    "name": "ipython",
    "version": 3
   },
   "file_extension": ".py",
   "mimetype": "text/x-python",
   "name": "python",
   "nbconvert_exporter": "python",
   "pygments_lexer": "ipython3",
   "version": "3.9.13"
  }
 },
 "nbformat": 4,
 "nbformat_minor": 1
}
