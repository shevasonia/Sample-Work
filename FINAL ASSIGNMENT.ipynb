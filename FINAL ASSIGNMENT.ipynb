{
 "cells": [
  {
   "cell_type": "code",
   "execution_count": null,
   "metadata": {},
   "outputs": [],
   "source": [
    "### The following is a model that aims to predict the direction of the movement of the price of a dogecoin based on Elon Musk's tweets ###"
   ]
  },
  {
   "cell_type": "code",
   "execution_count": 1,
   "metadata": {},
   "outputs": [
    {
     "name": "stderr",
     "output_type": "stream",
     "text": [
      "[nltk_data] Downloading package stopwords to\n",
      "[nltk_data]     C:\\Users\\kenez\\AppData\\Roaming\\nltk_data...\n",
      "[nltk_data]   Package stopwords is already up-to-date!\n"
     ]
    }
   ],
   "source": [
    "# Loading libraries, getting resources:\n",
    "import pandas as pd\n",
    "import nltk\n",
    "import random\n",
    "import csv\n",
    "nltk.download('stopwords')\n",
    "from nltk.corpus import stopwords\n",
    "from nltk.probability import FreqDist"
   ]
  },
  {
   "cell_type": "code",
   "execution_count": 2,
   "metadata": {},
   "outputs": [],
   "source": [
    "# Data initialization:\n",
    "# We expect the user of the model to know their dataset well, the code itself does not have data preparative features\n",
    "# In our case the raw data was processed using mostly pandas and excel features, we felt like the code needn't be \n",
    "# included here as it is not remotely reproducible anyways\n",
    "data = pd.read_csv('data_19_22.csv', delimiter = ',')"
   ]
  },
  {
   "cell_type": "code",
   "execution_count": 3,
   "metadata": {},
   "outputs": [],
   "source": [
    "# Creating the functions that classify the data\n",
    "\n",
    "# We create the function that makes a list of lists of words of the tweets \n",
    "\n",
    "def into_words(tweetcolumn):\n",
    "    wordlist = []\n",
    "    for tweet_sentence in tweetcolumn:\n",
    "            tweet_sentence_string_lower = str(tweet_sentence).lower()\n",
    "            tweet_words = tweet_sentence_string_lower.split()\n",
    "            wordlist.append(tweet_words)\n",
    "    return(wordlist)\n",
    "\n",
    "# We create the function that removes stopwords from the list, thus creating a stopword-free list of words\n",
    "\n",
    "def filterstopwords(wordlist):\n",
    "    filtered_wordlist = []\n",
    "    stop_words = list(stopwords.words('english'))\n",
    "    for lists in wordlist:\n",
    "        for words in lists:\n",
    "            if  words.lower() not in stop_words:\n",
    "                \n",
    "                filtered_wordlist.append(words.lower())\n",
    "    return(filtered_wordlist)\n",
    "\n",
    "# We create the function that makes a list of the top 100 words used by Elon Musk in his tweetings\n",
    "\n",
    "def top5kwordizer(filtered_wordlist):\n",
    "    all_words = nltk.FreqDist(filtered_wordlist)\n",
    "    all_features = list(all_words)[:2500]\n",
    "    return all_features\n",
    "\n",
    "# We create the function that makes the list of lists that contain dictionaries with the features\n",
    "\n",
    "def list_of_dicts(tweet_sentence, all_features): \n",
    "    tweet_words = set(tweet_sentence)\n",
    "    features = {}\n",
    "    for word in all_features:\n",
    "        if word in tweet_words:\n",
    "            features['contains({})'.format(word)] = True\n",
    "        else:\n",
    "            features['contains({})'.format(word)] = False\n",
    "    return features"
   ]
  },
  {
   "cell_type": "code",
   "execution_count": 5,
   "metadata": {},
   "outputs": [],
   "source": [
    "### Using the functions to go from our dataset to a classified set of data\n",
    "\n",
    "# Running the functions one by one to classify the data\n",
    "wordized_list = into_words(data['tweet']) # we have the list of lists of words\n",
    "filteredwords = filterstopwords(wordized_list) # we have the list of all words filtered free of stopwords\n",
    "top2500words = top5kwordizer(filteredwords) # we have the top100 words from the list above\n",
    "dictslist = list() # we get the list of list of dictionaries containing the features and if theyre in the tweet or not\n",
    "for tweet in wordized_list: \n",
    "        dictslist.append(list_of_dicts(tweet, top2500words))\n",
    "        \n",
    "# Using pandas's very nice dataframe feature to build our classified dataset\n",
    "\n",
    "workingdataframe = pd.DataFrame()\n",
    "workingdataframe['features'] = (pd.Series(list(dictslist)))\n",
    "workingdataframe['direction'] = data['direction']\n",
    "\n",
    "# Creating the list of lists that the model will train on\n",
    "\n",
    "finaldata = workingdataframe.values.tolist()"
   ]
  },
  {
   "cell_type": "code",
   "execution_count": 6,
   "metadata": {},
   "outputs": [
    {
     "name": "stdout",
     "output_type": "stream",
     "text": [
      "The accuracy of the model is :  0.47941787941787944\n",
      "Most Informative Features\n",
      "     contains(@joebiden) = True                1 : 0      =     12.7 : 1.0\n",
      "     contains(@f9block5) = True                0 : 1      =      8.7 : 1.0\n",
      "    contains(@sirineati) = True                0 : 1      =      8.1 : 1.0\n",
      "     contains(@sjvtesla) = True                1 : 0      =      7.9 : 1.0\n",
      "  contains(@martiandays) = True                0 : 1      =      7.4 : 1.0\n"
     ]
    }
   ],
   "source": [
    "# Training the model\n",
    "\n",
    "train_set = finaldata[:8000]\n",
    "test_set = finaldata[8000:]\n",
    "classifier = nltk.NaiveBayesClassifier.train(train_set)\n",
    "acc = nltk.classify.accuracy(classifier, test_set)\n",
    "print(\"The accuracy of the model is : \", acc)\n",
    "classifier.show_most_informative_features(5)"
   ]
  },
  {
   "cell_type": "code",
   "execution_count": null,
   "metadata": {},
   "outputs": [],
   "source": [
    "### Hope you enjoyed using the model, good luck in life!"
   ]
  }
 ],
 "metadata": {
  "kernelspec": {
   "display_name": "Python 3",
   "language": "python",
   "name": "python3"
  },
  "language_info": {
   "codemirror_mode": {
    "name": "ipython",
    "version": 3
   },
   "file_extension": ".py",
   "mimetype": "text/x-python",
   "name": "python",
   "nbconvert_exporter": "python",
   "pygments_lexer": "ipython3",
   "version": "3.8.5"
  }
 },
 "nbformat": 4,
 "nbformat_minor": 4
}
