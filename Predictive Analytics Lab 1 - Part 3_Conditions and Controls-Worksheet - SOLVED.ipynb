{
 "cells": [
  {
   "cell_type": "markdown",
   "metadata": {},
   "source": [
    "# Conditions and Loops"
   ]
  },
  {
   "cell_type": "markdown",
   "metadata": {},
   "source": [
    "## Conditions - Compare with \"if\", \"elif\" and \"else\"\n",
    "\n",
    "1. Evaluate expressions which produce TRUE or FALSE as outcome\n",
    "2. Based on the outcome of the expression a specific block of code is executed\n",
    "3. The expressions could be: equality (==) , inequality (!=), less/greater than (<)(>), less/greater than or equal (<=) (>=), membership (in, not in)\n",
    "4. Expressions can be combined using \"and\" and \"or\" and \"and not\"\n",
    "<img src=\"ifcondition.jpg\">"
   ]
  },
  {
   "cell_type": "markdown",
   "metadata": {},
   "source": [
    "*Let us write a small code that mimics a dice by generating a random number between 1 and 6. It then asks you to enter a number between 1 and 6. If what you enter equals the dice value you win or else you loose.*"
   ]
  },
  {
   "cell_type": "code",
   "execution_count": 29,
   "metadata": {},
   "outputs": [
    {
     "name": "stdout",
     "output_type": "stream",
     "text": [
      "Enter a number between 1 and 6 = 4\n",
      "Sorry, the dice showed:  4\n"
     ]
    }
   ],
   "source": [
    "from random import randint\n",
    "\n",
    "def dice(num):\n",
    "    \"\"\" A function to mimic the throw of a dice \"\"\"\n",
    "    \n",
    "    dice_val = randint(1,6)\n",
    "    \n",
    "    if num == dice_val:\n",
    "        print('Congratulations ! The value entered is the dice value')\n",
    "    else:\n",
    "        print('Sorry, the dice showed: ', dice_val)\n",
    "        \n",
    "\n",
    "iterate = 0 \n",
    "   \n",
    "in_num = input(\"Enter a number between 1 and 6 = \")\n",
    "dice(in_num)"
   ]
  },
  {
   "cell_type": "code",
   "execution_count": 27,
   "metadata": {},
   "outputs": [
    {
     "name": "stdout",
     "output_type": "stream",
     "text": [
      "Enter a number between 1 and 6 = 4\n",
      "Congratulations ! The value entered is the dice value\n"
     ]
    }
   ],
   "source": [
    "# Excercise 1: Unfortunately, in the previous code there is a bug. \n",
    "# Notice it says you have lost even though you entered the same value as the dice? \n",
    "# Suggest a bugfix.\n",
    "\n",
    "from random import randint\n",
    "\n",
    "def dice(num):\n",
    "    \"\"\" A function to mimic the throw of a dice \"\"\"\n",
    "    \n",
    "    dice_val = randint(1,6)\n",
    "    \n",
    "    if int(num) == dice_val:\n",
    "        print('Congratulations ! The value entered is the dice value')\n",
    "    else:\n",
    "        print('Sorry, the dice showed: ', dice_val)\n",
    "        \n",
    "\n",
    "iterate = 0 \n",
    "   \n",
    "in_num = input(\"Enter a number between 1 and 6 = \")\n",
    "dice(in_num)"
   ]
  },
  {
   "cell_type": "markdown",
   "metadata": {},
   "source": [
    "## Loops - Repeat with \"while\" and Iterate with \"for\" "
   ]
  },
  {
   "cell_type": "markdown",
   "metadata": {},
   "source": [
    "### While loop\n",
    "1. A loop statement allows us to execute a statement or group of statements multiple times\n",
    "2. While loop is the simplest loop which executes a block of code until and expression is True\n",
    "3. A 'break' command can be used to exit any loop prematurely\n",
    "4. A 'continue' command can be used to skip ahead to the next iterations without exiting the loop\n",
    "<img src=\"whileloop.png\">"
   ]
  },
  {
   "cell_type": "markdown",
   "metadata": {},
   "source": [
    "This is a simple code that uses the while loop to print the number 1 to 10."
   ]
  },
  {
   "cell_type": "code",
   "execution_count": 31,
   "metadata": {},
   "outputs": [
    {
     "name": "stdout",
     "output_type": "stream",
     "text": [
      "1\n",
      "2\n",
      "3\n",
      "4\n",
      "5\n",
      "6\n",
      "7\n",
      "8\n",
      "9\n",
      "10\n",
      "hi\n"
     ]
    }
   ],
   "source": [
    "iterate = 1\n",
    "while(iterate <= 10):\n",
    "    print(iterate)\n",
    "    iterate = iterate + 1\n",
    "print(\"hi\")"
   ]
  },
  {
   "cell_type": "markdown",
   "metadata": {},
   "source": [
    "*Now lets improve the previous function \"dice()\" such that the user has 5 attempts at entering the number and getting the right dice value. *"
   ]
  },
  {
   "cell_type": "code",
   "execution_count": 2,
   "metadata": {},
   "outputs": [
    {
     "name": "stdout",
     "output_type": "stream",
     "text": [
      "Enter a number between 1 and 6 = 1\n",
      "Sorry, the dice showed:  5\n",
      "Enter a number between 1 and 6 = 2\n",
      "Sorry, the dice showed:  6\n",
      "Enter a number between 1 and 6 = 3\n",
      "Sorry, the dice showed:  2\n",
      "Enter a number between 1 and 6 = 4\n",
      "Sorry, the dice showed:  3\n",
      "Enter a number between 1 and 6 = 5\n",
      "Sorry, the dice showed:  1\n"
     ]
    }
   ],
   "source": [
    "# Excercise 2: edit the previous \"dice()\"function so that the user has 5 attempts at throwing the dice. \n",
    "# Hint: You can use \"while\" or \"for\" loops. \n",
    "\n",
    "from random import randint\n",
    "\n",
    "def dice(num):\n",
    "    \"\"\" A function to mimic the throw of a dice \"\"\"\n",
    "    \n",
    "    dice_val = randint(1,6)\n",
    "    \n",
    "    if int(num) == dice_val:\n",
    "        print('Congratulations ! The value entered is the dice value')\n",
    "    else:\n",
    "        print('Sorry, the dice showed: ', dice_val)\n",
    "        \n",
    "\n",
    "iterate = 0 \n",
    "while(iterate < 5):\n",
    "    in_num = input(\"Enter a number between 1 and 6 = \")        \n",
    "    dice(in_num)\n",
    "    iterate=iterate+1  "
   ]
  },
  {
   "cell_type": "code",
   "execution_count": 1,
   "metadata": {},
   "outputs": [
    {
     "name": "stdout",
     "output_type": "stream",
     "text": [
      "Enter a number between 1 and 6 = 1\n",
      "Sorry, the dice showed:  3\n",
      "Enter a number between 1 and 6 = 2\n",
      "Sorry, the dice showed:  5\n",
      "Enter a number between 1 and 6 = 2\n",
      "Congratulations ! The value entered is the dice value\n"
     ]
    }
   ],
   "source": [
    "# Excercise 3: Edit the the previous code so that it stops asking the user to\n",
    "# enter a number when the value entered matches the dice value. \n",
    "# Hint: You will need to use the \"break\" command within the while loop. \n",
    "# Also remember that you can use the \"return\" command to pass values back to the calling function.\n",
    "\n",
    "from random import randint\n",
    "\n",
    "def dice(num):\n",
    "    \"\"\" A function to mimic the throw of a dice \"\"\"\n",
    "    \n",
    "    dice_val = randint(1,6)\n",
    "    \n",
    "    if int(num) == dice_val:\n",
    "        print('Congratulations ! The value entered is the dice value')\n",
    "        return 1\n",
    "    else:\n",
    "        print('Sorry, the dice showed: ', dice_val)\n",
    "        return 0\n",
    "\n",
    "iterate = 0 \n",
    "while(iterate < 5):\n",
    "    in_num = input(\"Enter a number between 1 and 6 = \")        \n",
    "    ret_val = dice(in_num)\n",
    "    if ret_val == 1:\n",
    "        break\n",
    "    iterate=iterate+1  \n"
   ]
  },
  {
   "cell_type": "markdown",
   "metadata": {},
   "source": [
    "## For loop\n",
    "1. For loops are used to iterate over data\n",
    "2. It makes it possible for you to traverse data structures without knowing how large they are\n",
    "3. You can even iterate over datastreams in real time"
   ]
  },
  {
   "cell_type": "markdown",
   "metadata": {},
   "source": [
    "*Let us write a program that asks the user to enter a text sentence and counts the number of times a particular character occurs in the sentence.*"
   ]
  },
  {
   "cell_type": "code",
   "execution_count": 4,
   "metadata": {},
   "outputs": [
    {
     "name": "stdout",
     "output_type": "stream",
     "text": [
      "Input your sentence: my name is sheva\n",
      "Input the character that needs to be counted: e\n",
      "Number of times the character ' e ' occurs is:  2\n"
     ]
    }
   ],
   "source": [
    "def count(sentence, char):\n",
    "    '''This function counts the number of times a particular charactor\n",
    "    occurs in a given sentence'''\n",
    "    \n",
    "    count = 0\n",
    "    for x_char in sentence:\n",
    "        if x_char == char:\n",
    "            count += 1\n",
    "    print(\"Number of times the character '\",char, \"' occurs is: \", count) # Careful with the quotes ! \n",
    "    \n",
    "sentence = input('Input your sentence: ')\n",
    "sentence = sentence.lower() #the lower() comand converts the sentence to lower case\n",
    "\n",
    "char = input('Input the character that needs to be counted: ').lower()\n",
    "count(sentence, char)\n"
   ]
  },
  {
   "cell_type": "code",
   "execution_count": 3,
   "metadata": {},
   "outputs": [
    {
     "name": "stdout",
     "output_type": "stream",
     "text": [
      "S\n",
      "h\n",
      "e\n",
      "v\n",
      "a\n",
      " \n",
      "i\n",
      "s\n",
      " \n",
      "m\n",
      "y\n",
      " \n",
      "n\n",
      "a\n",
      "m\n",
      "e\n"
     ]
    }
   ],
   "source": [
    "s=\"Sheva is my name\"\n",
    "\n",
    "##can also be used for list\n",
    "#i.e. s=[\"Sheva\",\"is\",\"my\",\"name\"]\n",
    "\n",
    "for char in s:\n",
    "    print(char)"
   ]
  },
  {
   "cell_type": "markdown",
   "metadata": {},
   "source": [
    "#### Excercise 4\n",
    "*Use the for loop so that it counts the number of times a given word occurs in a sentence ? Hint: Use the split() command to split the sentence into a list of words and then use the for loop to traverse through the list.*"
   ]
  },
  {
   "cell_type": "code",
   "execution_count": 11,
   "metadata": {},
   "outputs": [
    {
     "name": "stdout",
     "output_type": "stream",
     "text": [
      "Input your sentence: sheva sheva SHEVA SheVa\n",
      "Input the word that needs to be counted: sheva\n",
      "['sheva', 'sheva', 'sheva', 'sheva']\n",
      "Number of times the word ' sheva ' occurs is:  4\n"
     ]
    }
   ],
   "source": [
    "# Enter code here\n",
    "def count(sentence, word):\n",
    "    '''This function counts the number of times a particular word\n",
    "    occurs in a given sentence'''\n",
    "    \n",
    "    count = 0\n",
    "    sent_split = sentence.split()\n",
    "    print(sent_split)\n",
    "    for x_word in sent_split:\n",
    "        if x_word == word:\n",
    "            count += 1\n",
    "    print(\"Number of times the word '\",word, \"' occurs is: \", count) # Careful with the quotes ! \n",
    "    \n",
    "sentence = input('Input your sentence: ')\n",
    "sentence = sentence.lower() #the lower() comand converts the sentence to lower case\n",
    "\n",
    "word = input('Input the word that needs to be counted: ').lower()\n",
    "count(sentence, word)\n",
    "\n"
   ]
  }
 ],
 "metadata": {
  "anaconda-cloud": {},
  "kernelspec": {
   "display_name": "Python 3 (ipykernel)",
   "language": "python",
   "name": "python3"
  },
  "language_info": {
   "codemirror_mode": {
    "name": "ipython",
    "version": 3
   },
   "file_extension": ".py",
   "mimetype": "text/x-python",
   "name": "python",
   "nbconvert_exporter": "python",
   "pygments_lexer": "ipython3",
   "version": "3.9.13"
  }
 },
 "nbformat": 4,
 "nbformat_minor": 2
}
